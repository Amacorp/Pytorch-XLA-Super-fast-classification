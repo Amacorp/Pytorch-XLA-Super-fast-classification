{
 "cells": [
  {
   "cell_type": "markdown",
   "execution_count": null,
   "metadata": {
    "papermill": {
     "duration": 0.008118,
     "end_time": "2020-08-12T20:07:58.132910",
     "exception": false,
     "start_time": "2020-08-12T20:07:58.124792",
     "status": "completed"
    },
    "tags": []
   },
   "source": [
    "# Inference kernel for [[Torch XLA] Melanoma Crazy Fast](https://www.kaggle.com/shonenkov/torch-xla-melanoma-crazy-fast)\n",
    "\n",
    "Hi everyone!\n",
    "\n",
    "This kernel is inference part for tpu training using torch/xla. \n",
    "\n",
    "Some of you have asked questions about stable roc_auc on validation and LB. It is normal, private, public and cv datasets have different distributions! Nobody can't guarantee private stage without shake up. You should understand it and use own strategy. If you think that public LB score is correct, it is your strategy. My strategy is best local cross-validation scores. In the final submission I won't choose high public score with blind blend, I will choose my best OOF prediction for my models.\n",
    "\n",
    "I wish all of us good luck on private stage!"
   ]
  },
  {
   "cell_type": "markdown",
   "execution_count": null,
   "metadata": {
    "papermill": {
     "duration": 0.006129,
     "end_time": "2020-08-12T20:07:58.145456",
     "exception": false,
     "start_time": "2020-08-12T20:07:58.139327",
     "status": "completed"
    },
    "tags": []
   },
   "source": [
    "# Main Idea\n",
    "\n",
    "Use some techniques for more stable prediction:\n",
    "\n",
    "- several checkpoints from one fold\n",
    "- ensemble of 5 folds\n",
    "- no blend of public solutions"
   ]
  },
  {
   "cell_type": "code",
   "execution_count": 1,
   "metadata": {
    "_cell_guid": "79c7e3d0-c299-4dcb-8224-4455121ee9b0",
    "_kg_hide-input": true,
    "_kg_hide-output": true,
    "_uuid": "d629ff2d2480ee46fbb7e2d37f6b5fab8052498a",
    "execution": {
     "iopub.execute_input": "2020-08-12T20:07:58.165928Z",
     "iopub.status.busy": "2020-08-12T20:07:58.165072Z",
     "iopub.status.idle": "2020-08-12T20:08:12.470348Z",
     "shell.execute_reply": "2020-08-12T20:08:12.469745Z"
    },
    "papermill": {
     "duration": 14.318684,
     "end_time": "2020-08-12T20:08:12.470464",
     "exception": false,
     "start_time": "2020-08-12T20:07:58.151780",
     "status": "completed"
    },
    "tags": []
   },
   "outputs": [
    {
     "name": "stdout",
     "output_type": "stream",
     "text": [
      "\u001b[33mWARNING: You are using pip version 20.1; however, version 20.2.2 is available.\r\n",
      "You should consider upgrading via the '/opt/conda/bin/python3.7 -m pip install --upgrade pip' command.\u001b[0m\r\n",
      "\u001b[33mWARNING: You are using pip version 20.1; however, version 20.2.2 is available.\r\n",
      "You should consider upgrading via the '/opt/conda/bin/python3.7 -m pip install --upgrade pip' command.\u001b[0m\r\n"
     ]
    }
   ],
   "source": [
    "!pip install -q efficientnet_pytorch > /dev/null\n",
    "!pip install --no-deps timm > /dev/null"
   ]
  },
  {
   "cell_type": "code",
   "execution_count": 2,
   "metadata": {
    "_kg_hide-input": true,
    "_kg_hide-output": true,
    "execution": {
     "iopub.execute_input": "2020-08-12T20:08:12.499132Z",
     "iopub.status.busy": "2020-08-12T20:08:12.497913Z",
     "iopub.status.idle": "2020-08-12T20:08:16.525625Z",
     "shell.execute_reply": "2020-08-12T20:08:16.524424Z"
    },
    "papermill": {
     "duration": 4.046643,
     "end_time": "2020-08-12T20:08:16.525781",
     "exception": false,
     "start_time": "2020-08-12T20:08:12.479138",
     "status": "completed"
    },
    "tags": []
   },
   "outputs": [],
   "source": [
    "from glob import glob\n",
    "from tqdm import tqdm\n",
    "import pandas as pd\n",
    "from sklearn.model_selection import GroupKFold\n",
    "import cv2\n",
    "from skimage import io\n",
    "import albumentations as A\n",
    "import scipy as sp\n",
    "import torch\n",
    "import os\n",
    "from datetime import datetime\n",
    "import time\n",
    "import random\n",
    "import cv2\n",
    "import pandas as pd\n",
    "import numpy as np\n",
    "import albumentations as A\n",
    "import matplotlib.pyplot as plt\n",
    "from albumentations.pytorch.transforms import ToTensorV2\n",
    "from albumentations.pytorch import ToTensor\n",
    "from sklearn.model_selection import StratifiedKFold\n",
    "from torch.utils.data import Dataset,DataLoader\n",
    "from torch.utils.data.sampler import SequentialSampler, RandomSampler\n",
    "from torch.nn import functional as F\n",
    "from glob import glob\n",
    "import sklearn\n",
    "from torch import nn\n",
    "import warnings\n",
    "\n",
    "warnings.filterwarnings(\"ignore\") \n",
    "warnings.filterwarnings(\"ignore\", category=DeprecationWarning) \n",
    "\n",
    "SEED = 42\n",
    "\n",
    "def seed_everything(seed):\n",
    "    random.seed(seed)\n",
    "    os.environ['PYTHONHASHSEED'] = str(seed)\n",
    "    np.random.seed(seed)\n",
    "    torch.manual_seed(seed)\n",
    "    torch.cuda.manual_seed(seed)\n",
    "    torch.backends.cudnn.deterministic = True\n",
    "    torch.backends.cudnn.benchmark = True\n",
    "\n",
    "seed_everything(SEED)"
   ]
  },
  {
   "cell_type": "code",
   "execution_count": 3,
   "metadata": {
    "execution": {
     "iopub.execute_input": "2020-08-12T20:08:16.545342Z",
     "iopub.status.busy": "2020-08-12T20:08:16.543554Z",
     "iopub.status.idle": "2020-08-12T20:08:16.546076Z",
     "shell.execute_reply": "2020-08-12T20:08:16.546585Z"
    },
    "papermill": {
     "duration": 0.014097,
     "end_time": "2020-08-12T20:08:16.546715",
     "exception": false,
     "start_time": "2020-08-12T20:08:16.532618",
     "status": "completed"
    },
    "tags": []
   },
   "outputs": [],
   "source": [
    "DATA_PATH = '../input/melanoma-merged-external-data-512x512-jpeg'\n",
    "TEST_ROOT_PATH = f'{DATA_PATH}/512x512-test/512x512-test'\n",
    "\n",
    "# DATA_PATH = '../input/jpeg-melanoma-512x512'\n",
    "# TEST_ROOT_PATH = f'{DATA_PATH}/test'"
   ]
  },
  {
   "cell_type": "code",
   "execution_count": 4,
   "metadata": {
    "execution": {
     "iopub.execute_input": "2020-08-12T20:08:16.570879Z",
     "iopub.status.busy": "2020-08-12T20:08:16.566928Z",
     "iopub.status.idle": "2020-08-12T20:08:16.573462Z",
     "shell.execute_reply": "2020-08-12T20:08:16.572962Z"
    },
    "papermill": {
     "duration": 0.020805,
     "end_time": "2020-08-12T20:08:16.573587",
     "exception": false,
     "start_time": "2020-08-12T20:08:16.552782",
     "status": "completed"
    },
    "tags": []
   },
   "outputs": [],
   "source": [
    "from torchvision import transforms\n",
    "\n",
    "def get_valid_transforms():\n",
    "    return transforms.Compose([\n",
    "        transforms.ToPILImage(),\n",
    "        transforms.ToTensor(),\n",
    "        transforms.Normalize(mean=[0.485, 0.456, 0.406],std=[0.229, 0.224, 0.225])\n",
    "    ])\n",
    "\n",
    "class DatasetRetriever(Dataset):\n",
    "\n",
    "    def __init__(self, image_ids, transforms=None):\n",
    "        super().__init__()\n",
    "        self.image_ids = image_ids\n",
    "        self.transforms = transforms\n",
    "\n",
    "    def __getitem__(self, idx: int):\n",
    "        image_id = self.image_ids[idx]\n",
    "        image = cv2.imread(f'{TEST_ROOT_PATH}/{image_id}.jpg', cv2.IMREAD_COLOR)\n",
    "        image = cv2.resize(image, (256,256), cv2.INTER_AREA)\n",
    "\n",
    "        if self.transforms:\n",
    "            image = self.transforms(image)\n",
    "        return image, image_id\n",
    "\n",
    "    def __len__(self) -> int:\n",
    "        return self.image_ids.shape[0]"
   ]
  },
  {
   "cell_type": "code",
   "execution_count": 5,
   "metadata": {
    "execution": {
     "iopub.execute_input": "2020-08-12T20:08:16.592752Z",
     "iopub.status.busy": "2020-08-12T20:08:16.592002Z",
     "iopub.status.idle": "2020-08-12T20:08:16.622578Z",
     "shell.execute_reply": "2020-08-12T20:08:16.621963Z"
    },
    "papermill": {
     "duration": 0.042824,
     "end_time": "2020-08-12T20:08:16.622680",
     "exception": false,
     "start_time": "2020-08-12T20:08:16.579856",
     "status": "completed"
    },
    "tags": []
   },
   "outputs": [],
   "source": [
    "df_test = pd.read_csv(f'../input/siim-isic-melanoma-classification/test.csv', index_col='image_name')\n",
    "\n",
    "test_dataset = DatasetRetriever(\n",
    "    image_ids=df_test.index.values,\n",
    "    transforms=get_valid_transforms(),\n",
    ")\n",
    "\n",
    "test_loader = torch.utils.data.DataLoader(\n",
    "    test_dataset, \n",
    "    batch_size=32,\n",
    "    num_workers=10,\n",
    "    shuffle=False,\n",
    "    sampler=SequentialSampler(test_dataset),\n",
    "    pin_memory=False,\n",
    "    drop_last=False,\n",
    ")"
   ]
  },
  {
   "cell_type": "markdown",
   "execution_count": null,
   "metadata": {
    "papermill": {
     "duration": 0.006203,
     "end_time": "2020-08-12T20:08:16.635453",
     "exception": false,
     "start_time": "2020-08-12T20:08:16.629250",
     "status": "completed"
    },
    "tags": []
   },
   "source": [
    "# Net"
   ]
  },
  {
   "cell_type": "code",
   "execution_count": 6,
   "metadata": {
    "execution": {
     "iopub.execute_input": "2020-08-12T20:08:16.654886Z",
     "iopub.status.busy": "2020-08-12T20:08:16.653898Z",
     "iopub.status.idle": "2020-08-12T20:08:22.585882Z",
     "shell.execute_reply": "2020-08-12T20:08:22.585177Z"
    },
    "papermill": {
     "duration": 5.944044,
     "end_time": "2020-08-12T20:08:22.585994",
     "exception": false,
     "start_time": "2020-08-12T20:08:16.641950",
     "status": "completed"
    },
    "tags": []
   },
   "outputs": [],
   "source": [
    "import timm\n",
    "\n",
    "def get_net():\n",
    "    net = timm.create_model('resnext50d_32x4d', pretrained=False)\n",
    "    net.fc = nn.Linear(in_features=net.fc.in_features, out_features=2, bias=True)\n",
    "    return net\n",
    "\n",
    "net = get_net().cuda()"
   ]
  },
  {
   "cell_type": "markdown",
   "execution_count": null,
   "metadata": {
    "papermill": {
     "duration": 0.006245,
     "end_time": "2020-08-12T20:08:22.598973",
     "exception": false,
     "start_time": "2020-08-12T20:08:22.592728",
     "status": "completed"
    },
    "tags": []
   },
   "source": [
    "# Inference"
   ]
  },
  {
   "cell_type": "code",
   "execution_count": 7,
   "metadata": {
    "execution": {
     "iopub.execute_input": "2020-08-12T20:08:22.623563Z",
     "iopub.status.busy": "2020-08-12T20:08:22.621701Z",
     "iopub.status.idle": "2020-08-12T20:08:22.624287Z",
     "shell.execute_reply": "2020-08-12T20:08:22.624854Z"
    },
    "papermill": {
     "duration": 0.019092,
     "end_time": "2020-08-12T20:08:22.624976",
     "exception": false,
     "start_time": "2020-08-12T20:08:22.605884",
     "status": "completed"
    },
    "tags": []
   },
   "outputs": [],
   "source": [
    "def run_inference(net, test_loader):\n",
    "    result = {'image_name': [], 'target': []}\n",
    "    for images, image_names in tqdm(test_loader, total=len(test_loader)):\n",
    "        with torch.no_grad():\n",
    "            images = images.cuda().float()\n",
    "            outputs = net(images)\n",
    "            y_pred = nn.functional.softmax(outputs, dim=1).data.cpu().numpy()[:,1]\n",
    "        result['image_name'].extend(image_names)\n",
    "        result['target'].extend(y_pred)\n",
    "    return pd.DataFrame(result).set_index('image_name')"
   ]
  },
  {
   "cell_type": "code",
   "execution_count": 8,
   "metadata": {
    "_kg_hide-output": true,
    "execution": {
     "iopub.execute_input": "2020-08-12T20:08:22.645655Z",
     "iopub.status.busy": "2020-08-12T20:08:22.644852Z",
     "iopub.status.idle": "2020-08-12T20:19:58.824816Z",
     "shell.execute_reply": "2020-08-12T20:19:58.825329Z"
    },
    "papermill": {
     "duration": 696.192738,
     "end_time": "2020-08-12T20:19:58.825557",
     "exception": false,
     "start_time": "2020-08-12T20:08:22.632819",
     "status": "completed"
    },
    "tags": []
   },
   "outputs": [
    {
     "name": "stderr",
     "output_type": "stream",
     "text": [
      "100%|██████████| 344/344 [01:11<00:00,  4.80it/s]\n",
      "100%|██████████| 344/344 [01:08<00:00,  5.00it/s]\n",
      "100%|██████████| 344/344 [01:09<00:00,  4.95it/s]\n",
      "100%|██████████| 344/344 [01:09<00:00,  4.93it/s]\n",
      "100%|██████████| 344/344 [01:10<00:00,  4.88it/s]\n",
      "100%|██████████| 344/344 [01:10<00:00,  4.91it/s]\n",
      "100%|██████████| 344/344 [01:09<00:00,  4.94it/s]\n",
      "100%|██████████| 344/344 [01:09<00:00,  4.97it/s]\n",
      "100%|██████████| 344/344 [01:08<00:00,  5.04it/s]\n",
      "100%|██████████| 344/344 [01:07<00:00,  5.13it/s]\n"
     ]
    }
   ],
   "source": [
    "submissions = []\n",
    "checkpoint_paths = sorted(glob('../input/isic-resnext50d-32x4d-public-checkpoints/*.bin'))\n",
    "for checkpoint_path in checkpoint_paths:\n",
    "    checkpoint = torch.load(checkpoint_path)\n",
    "    net.load_state_dict(checkpoint);\n",
    "    net.eval();\n",
    "    submission = run_inference(net, test_loader)\n",
    "    submissions.append(submission)"
   ]
  },
  {
   "cell_type": "markdown",
   "execution_count": null,
   "metadata": {
    "papermill": {
     "duration": 0.197777,
     "end_time": "2020-08-12T20:19:59.222805",
     "exception": false,
     "start_time": "2020-08-12T20:19:59.025028",
     "status": "completed"
    },
    "tags": []
   },
   "source": [
    "# Rankdata\n",
    "Here I would like to say very good thanks [Dmytro Danevskyi @ddanevskyi](https://www.kaggle.com/ddanevskyi) for [this topic about non-calibrated predictions](https://www.kaggle.com/c/siim-isic-melanoma-classification/discussion/156064). It really helped me, I recommend to use this technique for ensemble."
   ]
  },
  {
   "cell_type": "code",
   "execution_count": 9,
   "metadata": {
    "execution": {
     "iopub.execute_input": "2020-08-12T20:19:59.640655Z",
     "iopub.status.busy": "2020-08-12T20:19:59.639555Z",
     "iopub.status.idle": "2020-08-12T20:19:59.690208Z",
     "shell.execute_reply": "2020-08-12T20:19:59.689679Z"
    },
    "papermill": {
     "duration": 0.255954,
     "end_time": "2020-08-12T20:19:59.690326",
     "exception": false,
     "start_time": "2020-08-12T20:19:59.434372",
     "status": "completed"
    },
    "tags": []
   },
   "outputs": [],
   "source": [
    "from scipy.stats import rankdata\n",
    "\n",
    "result_submission = submissions[0].copy()\n",
    "result_submission['target'] = 0\n",
    "for submission in submissions:\n",
    "    result_submission['target'] += rankdata(submission['target']) / len(submissions)"
   ]
  },
  {
   "cell_type": "code",
   "execution_count": 10,
   "metadata": {
    "execution": {
     "iopub.execute_input": "2020-08-12T20:20:00.134877Z",
     "iopub.status.busy": "2020-08-12T20:20:00.133989Z",
     "iopub.status.idle": "2020-08-12T20:20:00.811048Z",
     "shell.execute_reply": "2020-08-12T20:20:00.810450Z"
    },
    "papermill": {
     "duration": 0.927921,
     "end_time": "2020-08-12T20:20:00.811162",
     "exception": false,
     "start_time": "2020-08-12T20:19:59.883241",
     "status": "completed"
    },
    "tags": []
   },
   "outputs": [
    {
     "data": {
      "image/png": "[encoded data removed]",
      "text/plain": [
       "<Figure size 432x288 with 1 Axes>"
      ]
     },
     "metadata": {
      "needs_background": "light"
     },
     "output_type": "display_data"
    }
   ],
   "source": [
    "result_submission.to_csv('submission.csv')\n",
    "result_submission['target'].hist(bins=100);"
   ]
  },
  {
   "cell_type": "markdown",
   "execution_count": null,
   "metadata": {
    "papermill": {
     "duration": 0.195649,
     "end_time": "2020-08-12T20:20:01.217444",
     "exception": false,
     "start_time": "2020-08-12T20:20:01.021795",
     "status": "completed"
    },
    "tags": []
   },
   "source": [
    "# OOF Evaluation"
   ]
  },
  {
   "cell_type": "code",
   "execution_count": 11,
   "metadata": {
    "_kg_hide-input": true,
    "execution": {
     "iopub.execute_input": "2020-08-12T20:20:01.623755Z",
     "iopub.status.busy": "2020-08-12T20:20:01.623081Z",
     "iopub.status.idle": "2020-08-12T20:20:01.729173Z",
     "shell.execute_reply": "2020-08-12T20:20:01.728466Z"
    },
    "papermill": {
     "duration": 0.308548,
     "end_time": "2020-08-12T20:20:01.729298",
     "exception": false,
     "start_time": "2020-08-12T20:20:01.420750",
     "status": "completed"
    },
    "tags": []
   },
   "outputs": [],
   "source": [
    "df_folds = pd.read_csv('../input/melanoma-merged-external-data-512x512-jpeg/folds_13062020.csv', index_col='image_id')"
   ]
  },
  {
   "cell_type": "code",
   "execution_count": 12,
   "metadata": {
    "_kg_hide-input": true,
    "_kg_hide-output": false,
    "execution": {
     "iopub.execute_input": "2020-08-12T20:20:02.137009Z",
     "iopub.status.busy": "2020-08-12T20:20:02.136027Z",
     "iopub.status.idle": "2020-08-12T20:20:02.139613Z",
     "shell.execute_reply": "2020-08-12T20:20:02.139027Z"
    },
    "papermill": {
     "duration": 0.21646,
     "end_time": "2020-08-12T20:20:02.139724",
     "exception": false,
     "start_time": "2020-08-12T20:20:01.923264",
     "status": "completed"
    },
    "tags": []
   },
   "outputs": [],
   "source": [
    "TRAIN_ROOT_PATH = f'{DATA_PATH}/512x512-dataset-melanoma/512x512-dataset-melanoma'\n",
    "# TRAIN_ROOT_PATH = f'{DATA_PATH}/train'\n",
    "\n",
    "def onehot(size, target):\n",
    "    vec = torch.zeros(size, dtype=torch.float32)\n",
    "    vec[target] = 1.\n",
    "    return vec\n",
    "\n",
    "class DatasetRetriever(Dataset):\n",
    "\n",
    "    def __init__(self, image_ids, labels, transforms=None):\n",
    "        super().__init__()\n",
    "        self.image_ids = image_ids\n",
    "        self.labels = labels\n",
    "        self.transforms = transforms\n",
    "\n",
    "    def __getitem__(self, index: int):\n",
    "        image_id = self.image_ids[index]\n",
    "        image = cv2.imread(f'{TRAIN_ROOT_PATH}/{image_id}.jpg', cv2.IMREAD_COLOR)\n",
    "        image = cv2.resize(image, (256, 256), cv2.INTER_AREA)\n",
    "        label = self.labels[index]     \n",
    "        if self.transforms:\n",
    "            image = self.transforms(image)\n",
    "        return image, label, image_id\n",
    "\n",
    "    def __len__(self) -> int:\n",
    "        return self.image_ids.shape[0]\n",
    "\n",
    "    def get_labels(self):\n",
    "        return list(self.labels)"
   ]
  },
  {
   "cell_type": "code",
   "execution_count": 13,
   "metadata": {
    "execution": {
     "iopub.execute_input": "2020-08-12T20:20:02.618943Z",
     "iopub.status.busy": "2020-08-12T20:20:02.617039Z",
     "iopub.status.idle": "2020-08-12T20:26:52.879181Z",
     "shell.execute_reply": "2020-08-12T20:26:52.876681Z"
    },
    "papermill": {
     "duration": 410.486189,
     "end_time": "2020-08-12T20:26:52.879327",
     "exception": false,
     "start_time": "2020-08-12T20:20:02.393138",
     "status": "completed"
    },
    "tags": []
   },
   "outputs": [
    {
     "name": "stderr",
     "output_type": "stream",
     "text": [
      "100%|██████████| 5/5 [03:30<00:00, 42.06s/it]\n",
      "100%|██████████| 5/5 [03:19<00:00, 39.93s/it]\n"
     ]
    }
   ],
   "source": [
    "oof_predictions = []\n",
    "\n",
    "for checkpoint_paths in [\n",
    "    sorted(glob('../input/isic-resnext50d-32x4d-public-checkpoints/*-bestauc-*.bin')),\n",
    "    sorted(glob('../input/isic-resnext50d-32x4d-public-checkpoints/*-bestloss-*.bin')),\n",
    "]:\n",
    "    result = {'target': [], 'pred': [], 'image_name': []}\n",
    "    for fold_number, checkpoint_path in tqdm(enumerate(checkpoint_paths), total=len(checkpoint_paths)):\n",
    "        df_val = df_folds[(df_folds['fold'] == fold_number) & (df_folds['source'] == 'ISIC20')]\n",
    "\n",
    "        validation_dataset = DatasetRetriever(\n",
    "            image_ids=df_val.index.values,\n",
    "            labels=df_val.target.values,\n",
    "            transforms=get_valid_transforms(),\n",
    "        )\n",
    "\n",
    "        validation_loader = torch.utils.data.DataLoader(\n",
    "            validation_dataset, \n",
    "            batch_size=32,\n",
    "            num_workers=10,\n",
    "            shuffle=False,\n",
    "            sampler=SequentialSampler(validation_dataset),\n",
    "            pin_memory=False,\n",
    "            drop_last=False,\n",
    "        )\n",
    "\n",
    "        checkpoint = torch.load(checkpoint_path)\n",
    "        net.load_state_dict(checkpoint);\n",
    "        net.eval();\n",
    "\n",
    "        for step, (images, targets, image_names) in enumerate(validation_loader):\n",
    "            with torch.no_grad():\n",
    "                images = images.cuda().float()\n",
    "                outputs = net(images)\n",
    "                y_pred = nn.functional.softmax(outputs, dim=1).data.cpu().numpy()[:,1]\n",
    "            result['target'].extend(targets.numpy())\n",
    "            result['pred'].extend(y_pred)\n",
    "            result['image_name'].extend(image_names)\n",
    "            \n",
    "    oof_predictions.append(pd.DataFrame(result).set_index('image_name'))"
   ]
  },
  {
   "cell_type": "code",
   "execution_count": 14,
   "metadata": {
    "_kg_hide-input": true,
    "execution": {
     "iopub.execute_input": "2020-08-12T20:26:53.277443Z",
     "iopub.status.busy": "2020-08-12T20:26:53.276468Z",
     "iopub.status.idle": "2020-08-12T20:26:53.319008Z",
     "shell.execute_reply": "2020-08-12T20:26:53.319694Z"
    },
    "papermill": {
     "duration": 0.247206,
     "end_time": "2020-08-12T20:26:53.319874",
     "exception": false,
     "start_time": "2020-08-12T20:26:53.072668",
     "status": "completed"
    },
    "tags": []
   },
   "outputs": [
    {
     "name": "stdout",
     "output_type": "stream",
     "text": [
      "------------------------------\n",
      "[OOF RocAuc]: 0.962\n",
      "[OOF AP]: 0.460\n",
      "------------------------------\n"
     ]
    }
   ],
   "source": [
    "result_oof = oof_predictions[0].copy()\n",
    "result_oof['pred'] = 0\n",
    "for oof_prediction in oof_predictions:\n",
    "    result_oof['pred'] += rankdata(oof_prediction['pred']) / len(oof_predictions)\n",
    "\n",
    "print('-'*30)\n",
    "print(f\"[OOF RocAuc]: {sklearn.metrics.roc_auc_score(result_oof['target'], result_oof['pred']):.3f}\")\n",
    "print(f\"[OOF AP]: {sklearn.metrics.average_precision_score(result_oof['target'], result_oof['pred']):.3f}\")\n",
    "print('-'*30)"
   ]
  },
  {
   "cell_type": "markdown",
   "execution_count": null,
   "metadata": {
    "papermill": {
     "duration": 0.193458,
     "end_time": "2020-08-12T20:26:53.740997",
     "exception": false,
     "start_time": "2020-08-12T20:26:53.547539",
     "status": "completed"
    },
    "tags": []
   },
   "source": [
    "# Thank you for reading my kernel!"
   ]
  },
  {
   "cell_type": "code",
   "execution_count": 15,
   "metadata": {
    "execution": {
     "iopub.execute_input": "2020-08-12T20:26:54.128225Z",
     "iopub.status.busy": "2020-08-12T20:26:54.127522Z",
     "iopub.status.idle": "2020-08-12T20:26:54.132883Z",
     "shell.execute_reply": "2020-08-12T20:26:54.133357Z"
    },
    "papermill": {
     "duration": 0.200367,
     "end_time": "2020-08-12T20:26:54.133535",
     "exception": false,
     "start_time": "2020-08-12T20:26:53.933168",
     "status": "completed"
    },
    "tags": []
   },
   "outputs": [
    {
     "name": "stdout",
     "output_type": "stream",
     "text": [
      "finish\n"
     ]
    }
   ],
   "source": [
    "print(\"finish\")"
   ]
  }
 ],
 "metadata": {
  "kernelspec": {
   "display_name": "Python 3",
   "language": "python",
   "name": "python3"
  },
  "language_info": {
   "codemirror_mode": {
    "name": "ipython",
    "version": 3
   },
   "file_extension": ".py",
   "mimetype": "text/x-python",
   "name": "python",
   "nbconvert_exporter": "python",
   "pygments_lexer": "ipython3",
   "version": "3.7.6"
  },
  "papermill": {
   "duration": 1141.28501,
   "end_time": "2020-08-12T20:26:54.837275",
   "environment_variables": {},
   "exception": null,
   "input_path": "__notebook__.ipynb",
   "output_path": "__notebook__.ipynb",
   "parameters": {},
   "start_time": "2020-08-12T20:07:53.552265",
   "version": "2.1.0"
  }
 },
 "nbformat": 4,
 "nbformat_minor": 4
}
